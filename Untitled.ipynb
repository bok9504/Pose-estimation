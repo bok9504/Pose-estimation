{
 "cells": [
  {
   "cell_type": "code",
   "execution_count": 1,
   "metadata": {
    "ExecuteTime": {
     "end_time": "2020-11-09T08:42:46.385743Z",
     "start_time": "2020-11-09T08:42:46.274713Z"
    }
   },
   "outputs": [],
   "source": [
    "import cv2\n",
    "import numpy as np"
   ]
  },
  {
   "cell_type": "code",
   "execution_count": 2,
   "metadata": {
    "ExecuteTime": {
     "end_time": "2020-11-09T08:42:48.473072Z",
     "start_time": "2020-11-09T08:42:48.259075Z"
    }
   },
   "outputs": [],
   "source": [
    "# fashion_pose.py : MPII를 사용한 신체부위 검출\n",
    "\n",
    "\n",
    "# MPII에서 각 파트 번호, 선으로 연결될 POSE_PAIRS\n",
    "BODY_PARTS = { \"Head\": 0, \"Neck\": 1, \"RShoulder\": 2, \"RElbow\": 3, \"RWrist\": 4,\n",
    "                \"LShoulder\": 5, \"LElbow\": 6, \"LWrist\": 7, \"RHip\": 8, \"RKnee\": 9,\n",
    "                \"RAnkle\": 10, \"LHip\": 11, \"LKnee\": 12, \"LAnkle\": 13, \"Chest\": 14,\n",
    "                \"Background\": 15 }\n",
    "\n",
    "POSE_PAIRS = [ [\"Head\", \"Neck\"], [\"Neck\", \"RShoulder\"], [\"RShoulder\", \"RElbow\"],\n",
    "                [\"RElbow\", \"RWrist\"], [\"Neck\", \"LShoulder\"], [\"LShoulder\", \"LElbow\"],\n",
    "                [\"LElbow\", \"LWrist\"], [\"Neck\", \"Chest\"], [\"Chest\", \"RHip\"], [\"RHip\", \"RKnee\"],\n",
    "                [\"RKnee\", \"RAnkle\"], [\"Chest\", \"LHip\"], [\"LHip\", \"LKnee\"], [\"LKnee\", \"LAnkle\"] ]\n",
    "    \n",
    "# 각 파일 path\n",
    "protoFile = \"pose/mpi/pose_deploy_linevec_faster_4_stages.prototxt\"\n",
    "weightsFile = \"pose/mpi/pose_iter_160000.caffemodel\"\n",
    "\n",
    " \n",
    "# 위의 path에 있는 network 불러오기\n",
    "net = cv2.dnn.readNetFromCaffe(protoFile, weightsFile)\n"
   ]
  },
  {
   "cell_type": "code",
   "execution_count": 13,
   "metadata": {
    "ExecuteTime": {
     "end_time": "2020-11-09T08:15:53.837492Z",
     "start_time": "2020-11-09T08:15:53.816528Z"
    }
   },
   "outputs": [],
   "source": [
    "def pose_estimate(frame):\n",
    "\n",
    "    # frame.shape = 불러온 이미지에서 height, width, color 받아옴\n",
    "    inWidth = 368\n",
    "    inHeight = 368\n",
    "    frameHeight, frameWidth, _ = frame.shape\n",
    "\n",
    "    # network에 넣기위해 전처리\n",
    "    inpBlob = cv2.dnn.blobFromImage(image, 1.0 / 255, (inWidth, inHeight), (0, 0, 0), swapRB=False, crop=False)\n",
    "\n",
    "    # network에 넣어주기\n",
    "    net.setInput(inpBlob)\n",
    "\n",
    "    # 결과 받아오기\n",
    "    output = net.forward()\n",
    "\n",
    "    # output.shape[0] = 이미지 ID, [1] = 출력 맵의 높이, [2] = 너비\n",
    "    H = output.shape[2]\n",
    "    W = output.shape[3]\n",
    "    #print(\"이미지 ID : \", len(output[0]), \", H : \", output.shape[2], \", W : \",output.shape[3]) # 이미지 ID\n",
    "\n",
    "    # 키포인트 검출시 이미지에 그려줌\n",
    "    points = []\n",
    "    for i in range(0,15):\n",
    "        # 해당 신체부위 신뢰도 얻음.\n",
    "        probMap = output[0, i, :, :]\n",
    "\n",
    "        # global 최대값 찾기\n",
    "        minVal, prob, minLoc, point = cv2.minMaxLoc(probMap)\n",
    "\n",
    "        # 원래 이미지에 맞게 점 위치 변경\n",
    "        x = (frameWidth * point[0]) / W\n",
    "        y = (frameHeight * point[1]) / H\n",
    "\n",
    "        # 키포인트 검출한 결과가 0.1보다 크면(검출한곳이 위 BODY_PARTS랑 맞는 부위면) points에 추가, 검출했는데 부위가 없으면 None으로    \n",
    "        if prob > 0.1 :    \n",
    "            cv2.circle(image, (int(x), int(y)), 3, (0, 255, 255), thickness=-1, lineType=cv2.FILLED)       # circle(그릴곳, 원의 중심, 반지름, 색)\n",
    "            cv2.putText(image, \"{}\".format(i), (int(x), int(y)), cv2.FONT_HERSHEY_SIMPLEX, 0.5, (0, 0, 255), 1, lineType=cv2.LINE_AA)\n",
    "            points.append((int(x), int(y)))\n",
    "        else :\n",
    "            points.append(None)\n",
    "\n",
    "    # 이미지 복사\n",
    "    frameCopy = frame\n",
    "\n",
    "    # 각 POSE_PAIRS별로 선 그어줌 (머리 - 목, 목 - 왼쪽어깨, ...)\n",
    "    for pair in POSE_PAIRS:\n",
    "        partA = pair[0]             # Head\n",
    "        partA = BODY_PARTS[partA]   # 0\n",
    "        partB = pair[1]             # Neck\n",
    "        partB = BODY_PARTS[partB]   # 1\n",
    "\n",
    "        #print(partA,\" 와 \", partB, \" 연결\\n\")\n",
    "        if points[partA] and points[partB]:\n",
    "            cv2.line(frameCopy, points[partA], points[partB], (0, 255, 0), 2)\n",
    "            \n",
    "    return frameCopy\n"
   ]
  },
  {
   "cell_type": "code",
   "execution_count": 15,
   "metadata": {
    "ExecuteTime": {
     "end_time": "2020-11-09T08:18:15.539459Z",
     "start_time": "2020-11-09T08:17:30.055622Z"
    }
   },
   "outputs": [
    {
     "name": "stdout",
     "output_type": "stream",
     "text": [
      "카메라를 구동합니다.\n",
      "카메라 구동을 종료합니다.\n"
     ]
    }
   ],
   "source": [
    "# 카메라를 구동하여 흑백으로 표출해주는 함수\n",
    "\n",
    "def showVideo():\n",
    "    try:\n",
    "        print('카메라를 구동합니다.')\n",
    "        cap = cv2.VideoCapture(0) # VideoCapture 객체 생성 -> 구동할 장치 번호 입력(캠이 하나임으로 0번)\n",
    "    except:                      # 만약 캠구동이 아니라 저장된 파일을 재생하기 원할 시, 경로와 파일이름 입력\n",
    "        print('카메라 구동 실패')\n",
    "        return\n",
    "\n",
    "    cap.set(3, 480) # 프레임 크기 설정\n",
    "    cap.set(4, 320)\n",
    "    \n",
    "    while True:\n",
    "        ret, frame = cap.read() # 재생되는 비디오를 한 프레임씩 읽기 \n",
    "        frame = cv2.flip(frame, 1) # 제대로 읽을 시에 ret : True or False, frame : 읽은 프레임\n",
    "        \n",
    "        if not ret:\n",
    "            print('비디오 읽기 오류')\n",
    "            break\n",
    "        \n",
    "        framePose = pose_estimate(frame)\n",
    "        \n",
    "        cv2.imshow('video', framePose) # 변환한 프레임을 화면에 디스플레이\n",
    "        \n",
    "        k = cv2.waitKey(1) & 0xFF\n",
    "        if k == 27:\n",
    "            print('카메라 구동을 종료합니다.')\n",
    "            break\n",
    "    \n",
    "    cap.release() # 오픈한 cap 객체 해제 **** 필수 ****\n",
    "    cv2.destroyAllWindows() # 윈도우 창 답기\n",
    "    \n",
    "showVideo()"
   ]
  },
  {
   "cell_type": "code",
   "execution_count": 3,
   "metadata": {
    "ExecuteTime": {
     "end_time": "2020-11-09T08:48:38.968442Z",
     "start_time": "2020-11-09T08:42:52.317222Z"
    }
   },
   "outputs": [
    {
     "name": "stdout",
     "output_type": "stream",
     "text": [
      "이미지 ID :  44 , H :  46 , W :  46\n",
      "[(233, 32)]\n",
      "[(233, 32), (244, 106)]\n",
      "[(233, 32), (244, 106), (178, 130)]\n",
      "[(233, 32), (244, 106), (178, 130), (122, 188)]\n",
      "[(233, 32), (244, 106), (178, 130), (122, 188), (89, 114)]\n",
      "[(233, 32), (244, 106), (178, 130), (122, 188), (89, 114), (300, 122)]\n",
      "[(233, 32), (244, 106), (178, 130), (122, 188), (89, 114), (300, 122), (378, 163)]\n",
      "[(233, 32), (244, 106), (178, 130), (122, 188), (89, 114), (300, 122), (378, 163), (422, 114)]\n",
      "[(233, 32), (244, 106), (178, 130), (122, 188), (89, 114), (300, 122), (378, 163), (422, 114), (200, 277)]\n",
      "[(233, 32), (244, 106), (178, 130), (122, 188), (89, 114), (300, 122), (378, 163), (422, 114), (200, 277), None]\n",
      "[(233, 32), (244, 106), (178, 130), (122, 188), (89, 114), (300, 122), (378, 163), (422, 114), (200, 277), None, (89, 114)]\n",
      "[(233, 32), (244, 106), (178, 130), (122, 188), (89, 114), (300, 122), (378, 163), (422, 114), (200, 277), None, (89, 114), (278, 277)]\n",
      "[(233, 32), (244, 106), (178, 130), (122, 188), (89, 114), (300, 122), (378, 163), (422, 114), (200, 277), None, (89, 114), (278, 277), None]\n",
      "[(233, 32), (244, 106), (178, 130), (122, 188), (89, 114), (300, 122), (378, 163), (422, 114), (200, 277), None, (89, 114), (278, 277), None, (422, 106)]\n",
      "[(233, 32), (244, 106), (178, 130), (122, 188), (89, 114), (300, 122), (378, 163), (422, 114), (200, 277), None, (89, 114), (278, 277), None, (422, 106), (244, 204)]\n"
     ]
    }
   ],
   "source": [
    "# 이미지 읽어오기\n",
    "image = cv2.imread(\"half.jpg\")\n",
    "\n",
    "# frame.shape = 불러온 이미지에서 height, width, color 받아옴\n",
    "inWidth = 368\n",
    "inHeight = 368\n",
    "imageHeight, imageWidth, _ = image.shape\n",
    " \n",
    "# network에 넣기위해 전처리\n",
    "inpBlob = cv2.dnn.blobFromImage(image, 1.0 / 255, (inWidth, inHeight), (0, 0, 0), swapRB=False, crop=False)\n",
    " \n",
    "# network에 넣어주기\n",
    "net.setInput(inpBlob)\n",
    "\n",
    "# 결과 받아오기\n",
    "output = net.forward()\n",
    "\n",
    "# output.shape[0] = 이미지 ID, [1] = 출력 맵의 높이, [2] = 너비\n",
    "H = output.shape[2]\n",
    "W = output.shape[3]\n",
    "print(\"이미지 ID : \", len(output[0]), \", H : \", output.shape[2], \", W : \",output.shape[3]) # 이미지 ID\n",
    "\n",
    "# 키포인트 검출시 이미지에 그려줌\n",
    "points = []\n",
    "for i in range(0,15):\n",
    "    # 해당 신체부위 신뢰도 얻음.\n",
    "    probMap = output[0, i, :, :]\n",
    " \n",
    "    # global 최대값 찾기\n",
    "    minVal, prob, minLoc, point = cv2.minMaxLoc(probMap)\n",
    "\n",
    "    # 원래 이미지에 맞게 점 위치 변경\n",
    "    x = (imageWidth * point[0]) / W\n",
    "    y = (imageHeight * point[1]) / H\n",
    "\n",
    "    # 키포인트 검출한 결과가 0.1보다 크면(검출한곳이 위 BODY_PARTS랑 맞는 부위면) points에 추가, 검출했는데 부위가 없으면 None으로    \n",
    "    if prob > 0.1 :    \n",
    "        cv2.circle(image, (int(x), int(y)), 3, (0, 255, 255), thickness=-1, lineType=cv2.FILLED)       # circle(그릴곳, 원의 중심, 반지름, 색)\n",
    "        cv2.putText(image, \"{}\".format(i), (int(x), int(y)), cv2.FONT_HERSHEY_SIMPLEX, 0.5, (0, 0, 255), 1, lineType=cv2.LINE_AA)\n",
    "        points.append((int(x), int(y)))\n",
    "    else :\n",
    "        points.append(None)\n",
    "    print(points)\n",
    "\n",
    "cv2.imshow(\"Output-Keypoints\",image)\n",
    "cv2.waitKey(0)\n",
    "\n",
    "# 이미지 복사\n",
    "imageCopy = image\n",
    "\n",
    "# 각 POSE_PAIRS별로 선 그어줌 (머리 - 목, 목 - 왼쪽어깨, ...)\n",
    "for pair in POSE_PAIRS:\n",
    "    partA = pair[0]             # Head\n",
    "    partA = BODY_PARTS[partA]   # 0\n",
    "    partB = pair[1]             # Neck\n",
    "    partB = BODY_PARTS[partB]   # 1\n",
    "    \n",
    "    #print(partA,\" 와 \", partB, \" 연결\\n\")\n",
    "    if points[partA] and points[partB]:\n",
    "        cv2.line(imageCopy, points[partA], points[partB], (0, 255, 0), 2)\n",
    "\n",
    "\n",
    "cv2.imshow(\"Output-Keypoints\",imageCopy)\n",
    "cv2.waitKey(0)\n",
    "cv2.destroyAllWindows()"
   ]
  },
  {
   "cell_type": "code",
   "execution_count": null,
   "metadata": {},
   "outputs": [],
   "source": []
  }
 ],
 "metadata": {
  "kernelspec": {
   "display_name": "Python 3",
   "language": "python",
   "name": "python3"
  },
  "language_info": {
   "codemirror_mode": {
    "name": "ipython",
    "version": 3
   },
   "file_extension": ".py",
   "mimetype": "text/x-python",
   "name": "python",
   "nbconvert_exporter": "python",
   "pygments_lexer": "ipython3",
   "version": "3.7.9"
  },
  "toc": {
   "base_numbering": 1,
   "nav_menu": {},
   "number_sections": true,
   "sideBar": true,
   "skip_h1_title": false,
   "title_cell": "Table of Contents",
   "title_sidebar": "Contents",
   "toc_cell": false,
   "toc_position": {},
   "toc_section_display": true,
   "toc_window_display": false
  },
  "varInspector": {
   "cols": {
    "lenName": 16,
    "lenType": 16,
    "lenVar": 40
   },
   "kernels_config": {
    "python": {
     "delete_cmd_postfix": "",
     "delete_cmd_prefix": "del ",
     "library": "var_list.py",
     "varRefreshCmd": "print(var_dic_list())"
    },
    "r": {
     "delete_cmd_postfix": ") ",
     "delete_cmd_prefix": "rm(",
     "library": "var_list.r",
     "varRefreshCmd": "cat(var_dic_list()) "
    }
   },
   "types_to_exclude": [
    "module",
    "function",
    "builtin_function_or_method",
    "instance",
    "_Feature"
   ],
   "window_display": false
  }
 },
 "nbformat": 4,
 "nbformat_minor": 4
}
